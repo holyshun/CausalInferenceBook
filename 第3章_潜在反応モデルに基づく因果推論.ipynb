{
 "cells": [
  {
   "cell_type": "code",
   "execution_count": null,
   "metadata": {},
   "outputs": [],
   "source": [
    "from matplotlib import pyplot as plt\n",
    "import japanize_matplotlib\n",
    "import numpy as np\n",
    "import pandas as pd\n",
    "from sklearn.linear_model import LinearRegression, LogisticRegression"
   ]
  },
  {
   "cell_type": "code",
   "execution_count": null,
   "metadata": {},
   "outputs": [],
   "source": [
    "# データの読み込み\n",
    "df = pd.read_csv('https://raw.githubusercontent.com/AMLab-Amsterdam/CEVAE/master/datasets/IHDP/csv/ihdp_npci_10.csv', header = None)\n",
    "df.columns = ['T', 'y_factual', 'y_cfactual', 'mu0', 'mu1'] + [f'X_{i}' for i in range(1, 26)]\n",
    "df.head()"
   ]
  },
  {
   "cell_type": "code",
   "execution_count": null,
   "metadata": {},
   "outputs": [],
   "source": [
    "# 潜在反応変数から観測変数を作成し、本来は観測できない変数を削除\n",
    "df['Y'] = df['y_factual']\n",
    "df.drop(['y_factual', 'y_cfactual', 'mu0', 'mu1'], axis=1, inplace=True)\n",
    "df.head()"
   ]
  },
  {
   "cell_type": "code",
   "execution_count": null,
   "metadata": {},
   "outputs": [],
   "source": [
    "# T=1のユニットのYの平均値とT=0のユニットのYの平均値の差を計算\n",
    "\n",
    "Y_1_mean = df[df['T'] == 1]['Y'].mean()\n",
    "Y_0_mean = df[df['T'] == 0]['Y'].mean()\n",
    "diff = Y_1_mean - Y_0_mean\n",
    "\n",
    "print(f'T=1のユニットのYの平均値: {Y_1_mean}')\n",
    "print(f'T=0のユニットのYの平均値: {Y_0_mean}')\n",
    "print(f'T=1のユニットのYの平均値とT=0のユニットのYの平均値の差: {diff}')"
   ]
  },
  {
   "cell_type": "code",
   "execution_count": null,
   "metadata": {},
   "outputs": [],
   "source": [
    "# 傾向スコアの推定\n",
    "\n",
    "X = df.drop(['T', 'Y'], axis=1).values\n",
    "T = df['T'].values\n",
    "\n",
    "# ロジスティック回帰モデルを用いて傾向スコアを推定\n",
    "model = LogisticRegression(penalty=None)\n",
    "model.fit(X, T)\n",
    "ps = model.predict_proba(X)[:, 1]\n",
    "\n",
    "# 推定された傾向スコアをデータフレームに追加\n",
    "df['ps'] = ps\n",
    "\n",
    "df.tail()"
   ]
  },
  {
   "cell_type": "code",
   "execution_count": null,
   "metadata": {},
   "outputs": [],
   "source": [
    "# 対照群と処置群で傾向スコアの分布を比較\n",
    "\n",
    "plt.hist(df[df['T'] == 1]['ps'], bins=20, alpha=0.5, density=True, label='処置群')\n",
    "plt.hist(df[df['T'] == 0]['ps'], bins=20, alpha=0.5, density=True, label='対照群')\n",
    "plt.xlabel('傾向スコア')\n",
    "plt.ylabel('密度')\n",
    "plt.legend()\n",
    "plt.show();"
   ]
  },
  {
   "cell_type": "code",
   "execution_count": null,
   "metadata": {},
   "outputs": [],
   "source": [
    "# マッチング推定により平均処置効果を推定\n",
    "\n",
    "# 処置群と統制群の傾向スコアが近いユニット同士をマッチング\n",
    "df_1 = df[df['T'] == 1].copy()\n",
    "df_0 = df[df['T'] == 0].copy()\n",
    "\n",
    "matched_rows = []\n",
    "\n",
    "for i, row in df_1.iterrows():\n",
    "    dist = np.abs(df_0['ps'] - row['ps'])\n",
    "    min_idx = dist.idxmin()\n",
    "    \n",
    "    # 処置群と統制群を1行にまとめる\n",
    "    matched_pair = {\n",
    "        'T1_index': i,                     # 処置群のインデックス\n",
    "        'T1_ps': row['ps'],                # 処置群の傾向スコア\n",
    "        'T1_outcome': row['Y'],      # 処置群のアウトカム\n",
    "        'T0_index': min_idx,               # 統制群のインデックス\n",
    "        'T0_ps': df_0.loc[min_idx, 'ps'],  # 統制群の傾向スコア\n",
    "        'T0_outcome': df_0.loc[min_idx, 'Y']  # 統制群のアウトカム\n",
    "    }\n",
    "    matched_rows.append(matched_pair)\n",
    "\n",
    "# データフレームに変換\n",
    "df_match = pd.DataFrame(matched_rows)\n",
    "\n",
    "df_match.tail()\n"
   ]
  },
  {
   "cell_type": "code",
   "execution_count": null,
   "metadata": {},
   "outputs": [],
   "source": [
    "# マッチング推定量による推定値の計算\n",
    "matching_estimate = df_match['T1_outcome'].mean() - df_match['T0_outcome'].mean()\n",
    "\n",
    "print(f'マッチング推定による平均処置効果の推定値: {matching_estimate}')"
   ]
  },
  {
   "cell_type": "code",
   "execution_count": null,
   "metadata": {},
   "outputs": [],
   "source": [
    "# 逆確率重み付け推定により平均処置効果を推定\n",
    "\n",
    "# 逆確率重み付け推定\n",
    "ipw_estimate = (np.sum(df['T'] * df['Y'] / df['ps']) - np.sum((1 - df['T']) * df['Y'] / (1 - df['ps']))) / len(df)\n",
    "\n",
    "print(f'逆確率重み付け推定による平均処置効果の推定値: {ipw_estimate}')"
   ]
  },
  {
   "cell_type": "code",
   "execution_count": null,
   "metadata": {},
   "outputs": [],
   "source": [
    "# 重回帰分析により平均処置効果を推定\n",
    "\n",
    "# 重回帰分析\n",
    "Y = df['Y'].values\n",
    "T_X = np.concatenate([T.reshape(-1, 1), X], axis=1)\n",
    "\n",
    "model = LinearRegression()\n",
    "model.fit(T_X, Y)\n",
    "coef = model.coef_[0]\n",
    "\n",
    "print(f'重回帰分析による平均処置効果の推定値: {coef}')"
   ]
  },
  {
   "cell_type": "code",
   "execution_count": null,
   "metadata": {},
   "outputs": [],
   "source": [
    "# 重回帰分析のベイズ推定により平均処置効果の事後分布を求める\n",
    "\n",
    "# 事前分布の設定\n",
    "prior_beta_mean = 0\n",
    "prior_beta_s = 0.01\n",
    "prior_s_e_a = 1\n",
    "prior_s_e_b = 50\n",
    "\n",
    "# gibbs sampling\n",
    "np.random.seed(0)\n",
    "X = T_X\n",
    "y = Y\n",
    "n = X.shape[0]\n",
    "p = X.shape[1]\n",
    "\n",
    "# 初期値\n",
    "beta = np.zeros(p)\n",
    "s_e = 1\n",
    "n_iter = 10000\n",
    "beta_samples = np.zeros((n_iter, p))\n",
    "sig2_e_samples = np.zeros(n_iter)\n",
    "\n",
    "for i in range(n_iter):\n",
    "    # βのサンプリング\n",
    "    beta_cov = np.linalg.inv(s_e * X.T @ X + prior_beta_s * np.eye(p) )\n",
    "    beta_mean = beta_cov @ (s_e * X.T @ y + prior_beta_s * prior_beta_mean)\n",
    "    beta = np.random.multivariate_normal(beta_mean, beta_cov)\n",
    "    beta_samples[i] = beta\n",
    "\n",
    "    # s_eのサンプリング\n",
    "    s_e_a_new = prior_s_e_a + n/2\n",
    "    s_e_b_new = prior_s_e_b + 0.5 * (y - X @ beta).T @ (y - X @ beta)\n",
    "    s_e = np.random.gamma(s_e_a_new, 1/s_e_b_new)\n",
    "    sig2_e_samples[i] = 1./s_e"
   ]
  },
  {
   "cell_type": "code",
   "execution_count": null,
   "metadata": {},
   "outputs": [],
   "source": [
    "# 平均処置効果の事後分布の描画（事後サンプルのヒストグラム）\n",
    "plt.hist(beta_samples[:, 0], bins=50, density=True, color='orange')\n",
    "plt.xlabel(r'$\\alpha$');"
   ]
  },
  {
   "cell_type": "code",
   "execution_count": null,
   "metadata": {},
   "outputs": [],
   "source": [
    "# 平均処置効果の事後平均と95%信用区間を計算\n",
    "lower = np.percentile(beta_samples[:, 0], 2.5)\n",
    "upper = np.percentile(beta_samples[:, 0], 97.5)\n",
    "\n",
    "print(f'事後平均による平均処置効果の推定値: {beta_samples[:, 0].mean()}')\n",
    "print(f'平均処置効果の95%信用区間: ({lower}, {upper})')"
   ]
  },
  {
   "cell_type": "code",
   "execution_count": null,
   "metadata": {},
   "outputs": [],
   "source": []
  }
 ],
 "metadata": {
  "kernelspec": {
   "display_name": "base",
   "language": "python",
   "name": "python3"
  },
  "language_info": {
   "codemirror_mode": {
    "name": "ipython",
    "version": 3
   },
   "file_extension": ".py",
   "mimetype": "text/x-python",
   "name": "python",
   "nbconvert_exporter": "python",
   "pygments_lexer": "ipython3",
   "version": "3.11.7"
  }
 },
 "nbformat": 4,
 "nbformat_minor": 4
}
