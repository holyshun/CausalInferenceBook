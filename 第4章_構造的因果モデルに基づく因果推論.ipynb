{
 "cells": [
  {
   "cell_type": "code",
   "execution_count": 1,
   "metadata": {},
   "outputs": [],
   "source": [
    "from matplotlib import pyplot as plt\n",
    "import japanize_matplotlib\n",
    "import numpy as np\n",
    "import pandas as pd\n",
    "from sklearn.linear_model import LinearRegression, LogisticRegression"
   ]
  },
  {
   "cell_type": "code",
   "execution_count": 2,
   "metadata": {},
   "outputs": [],
   "source": [
    "np.random.seed(0)"
   ]
  },
  {
   "cell_type": "code",
   "execution_count": 3,
   "metadata": {},
   "outputs": [],
   "source": [
    "# 構造方程式の設定\n",
    "\n",
    "def sigmoid(x):\n",
    "    return 1 / (1 + np.exp(-x))\n",
    "\n",
    "def f_X1(sample_size):\n",
    "    return np.random.binomial(1, 0.5, sample_size)\n",
    "\n",
    "def f_X2(sample_size):\n",
    "    return np.random.normal(0, 1, sample_size)\n",
    "\n",
    "def f_X3(X1, X2, sample_size):\n",
    "    p = sigmoid(-0.3+0.9*X1-11.2*X2)\n",
    "    return np.random.binomial(1, p, sample_size)\n",
    "\n",
    "def f_T(X1, X2, sample_size):\n",
    "    p = sigmoid(-0.5+1.2*X1+0.8*X2)\n",
    "    return np.random.binomial(1, p, sample_size)\n",
    "\n",
    "def f_X4(T, X3, sample_size):\n",
    "    return 3 + 2.5*T + 3*X3 + np.random.normal(0, np.sqrt(1.5), sample_size)\n",
    "\n",
    "def f_X5(X4, sample_size):\n",
    "    return 100 + 10*X4 + np.random.normal(0, np.sqrt(20), sample_size)\n",
    "\n",
    "def f_Y(X1, X3, X5, sample_size):\n",
    "    return 1000 + 100*X1 + 500*X3 + 15*X5 + np.random.normal(0, np.sqrt(100), sample_size)"
   ]
  },
  {
   "cell_type": "code",
   "execution_count": 4,
   "metadata": {},
   "outputs": [],
   "source": [
    "# データの生成\n",
    "\n",
    "sample_size = 100\n",
    "X1 = f_X1(sample_size)\n",
    "X2 = f_X2(sample_size)\n",
    "X3 = f_X3(X1, X2, sample_size)\n",
    "T = f_T(X1, X2, sample_size)\n",
    "X4 = f_X4(T, X3, sample_size)\n",
    "X5 = f_X5(X4, sample_size)\n",
    "Y = f_Y(X1, X3, X5, sample_size)\n",
    "\n",
    "df = pd.DataFrame({\n",
    "    'X1': X1,\n",
    "    'X2': X2,\n",
    "    'X3': X3,\n",
    "    'T': T,\n",
    "    'X4': X4,\n",
    "    'X5': X5,\n",
    "    'Y': Y\n",
    "})"
   ]
  },
  {
   "cell_type": "code",
   "execution_count": 5,
   "metadata": {},
   "outputs": [],
   "source": [
    "# T=0と介入した場合のデータの生成\n",
    "\n",
    "sample_size = 10000\n",
    "X1 = f_X1(sample_size)\n",
    "X2 = f_X2(sample_size)\n",
    "X3 = f_X3(X1, X2, sample_size)\n",
    "T = np.zeros(sample_size)\n",
    "X4 = f_X4(T, X3, sample_size)\n",
    "X5 = f_X5(X4, sample_size)\n",
    "Y = f_Y(X1, X3, X5, sample_size)\n",
    "\n",
    "df_0 = pd.DataFrame({\n",
    "    'X1': X1,\n",
    "    'X2': X2,\n",
    "    'X3': X3,\n",
    "    'T': T,\n",
    "    'X4': X4,\n",
    "    'X5': X5,\n",
    "    'Y': Y\n",
    "})"
   ]
  },
  {
   "cell_type": "code",
   "execution_count": 6,
   "metadata": {},
   "outputs": [],
   "source": [
    "# T=1と介入した場合のデータの生成\n",
    "\n",
    "sample_size = 10000\n",
    "X1 = f_X1(sample_size)\n",
    "X2 = f_X2(sample_size)\n",
    "X3 = f_X3(X1, X2, sample_size)\n",
    "T = np.ones(sample_size)\n",
    "X4 = f_X4(T, X3, sample_size)\n",
    "X5 = f_X5(X4, sample_size)\n",
    "Y = f_Y(X1, X3, X5, sample_size)\n",
    "\n",
    "df_1 = pd.DataFrame({\n",
    "    'X1': X1,\n",
    "    'X2': X2,\n",
    "    'X3': X3,\n",
    "    'T': T,\n",
    "    'X4': X4,\n",
    "    'X5': X5,\n",
    "    'Y': Y\n",
    "})"
   ]
  },
  {
   "cell_type": "code",
   "execution_count": 7,
   "metadata": {},
   "outputs": [
    {
     "name": "stdout",
     "output_type": "stream",
     "text": [
      "平均因果効果: 373.6709065155528\n"
     ]
    }
   ],
   "source": [
    "# 平均因果効果の計算\n",
    "\n",
    "print('平均因果効果:', df_1['Y'].mean() - df_0['Y'].mean())"
   ]
  },
  {
   "cell_type": "code",
   "execution_count": 8,
   "metadata": {},
   "outputs": [],
   "source": [
    "# 周辺分布・条件付き分布の推定\n",
    "\n",
    "# p(x1)の推定\n",
    "p_x1 = df['X1'].mean()\n",
    "\n",
    "# p(x2)の推定\n",
    "mu_x2 = df['X2'].mean()\n",
    "sigma_x2 = df['X2'].std()\n",
    "\n",
    "# p(x3|x1,x2)の推定\n",
    "logisitic_model_x3 = LogisticRegression()\n",
    "logisitic_model_x3.fit(df[['X1', 'X2']].values, df['X3'].values)\n",
    "\n",
    "# p(t|x1,x2)の推定\n",
    "logisitic_model_t = LogisticRegression()\n",
    "logisitic_model_t.fit(df[['X1', 'X2']].values, df['T'].values)\n",
    "\n",
    "# p(x4|t,x3)の推定\n",
    "linear_model_x4 = LinearRegression(fit_intercept=True)\n",
    "linear_model_x4.fit(df[['T', 'X3']].values, df['X4'].values)\n",
    "sigma_x4 = np.sqrt(((df['X4'].values - linear_model_x4.predict(df[['T', 'X3']].values)) ** 2).mean())\n",
    "\n",
    "# p(x5|x4)の推定\n",
    "linear_model_x5 = LinearRegression(fit_intercept=True)\n",
    "linear_model_x5.fit(df[['X4']].values, df['X5'].values)\n",
    "sigma_x5 = np.sqrt(((df['X5'].values - linear_model_x5.predict(df[['X4']].values)) ** 2).mean())\n",
    "\n",
    "# p(y|x1,x3,x5)の推定\n",
    "linear_model_y = LinearRegression(fit_intercept=True)\n",
    "linear_model_y.fit(df[['X1', 'X3', 'X5']].values, df['Y'].values)\n",
    "sigma_y = np.sqrt(((df['Y'].values - linear_model_y.predict(df[['X1', 'X3', 'X5']].values)) ** 2).mean())"
   ]
  },
  {
   "cell_type": "code",
   "execution_count": 9,
   "metadata": {},
   "outputs": [],
   "source": [
    "# 推定した分布での平均因果効果の計算\n",
    "\n",
    "X1 = np.random.binomial(1, p_x1, 10000)\n",
    "X2 = np.random.normal(mu_x2, sigma_x2, 10000)\n",
    "p_X3 = logisitic_model_x3.predict_proba(np.c_[X1, X2])[:, 1]\n",
    "X3 = np.random.binomial(1, p_X3, 10000)\n",
    "T = np.zeros(10000)\n",
    "X4 = np.random.normal(linear_model_x4.predict(np.c_[T, X3]), sigma_x4, 10000)\n",
    "X5 = np.random.normal(linear_model_x5.predict(np.c_[X4]), sigma_x5, 10000)\n",
    "Y_0 = linear_model_y.predict(np.c_[X1, X3, X5])\n",
    "\n",
    "hat_df_0 = pd.DataFrame({\n",
    "    'X1': X1,\n",
    "    'X2': X2,\n",
    "    'X3': X3,\n",
    "    'T': T,\n",
    "    'X4': X4,\n",
    "    'X5': X5,\n",
    "    'Y': Y_0\n",
    "})\n",
    "\n",
    "X1 = np.random.binomial(1, p_x1, 10000)\n",
    "X2 = np.random.normal(mu_x2, sigma_x2, 10000)\n",
    "p_X3 = logisitic_model_x3.predict_proba(np.c_[X1, X2])[:, 1]\n",
    "X3 = np.random.binomial(1, p_X3, 10000)\n",
    "T = np.ones(10000)\n",
    "X4 = np.random.normal(linear_model_x4.predict(np.c_[T, X3]), sigma_x4, 10000)\n",
    "X5 = np.random.normal(linear_model_x5.predict(np.c_[X4]), sigma_x5, 10000)\n",
    "Y_1 = linear_model_y.predict(np.c_[X1, X3, X5])\n",
    "\n",
    "hat_df_1 = pd.DataFrame({\n",
    "    'X1': X1,\n",
    "    'X2': X2,\n",
    "    'X3': X3,\n",
    "    'T': T,\n",
    "    'X4': X4,\n",
    "    'X5': X5,\n",
    "    'Y': Y_1\n",
    "})"
   ]
  },
  {
   "cell_type": "code",
   "execution_count": 13,
   "metadata": {},
   "outputs": [
    {
     "data": {
      "image/png": "[encoded data removed]",
      "text/plain": [
       "<Figure size 640x480 with 1 Axes>"
      ]
     },
     "metadata": {},
     "output_type": "display_data"
    }
   ],
   "source": [
    "# \\hat{p}_{do(T=0)}(y)と\\hat{p}_{do(T=1)}(y)の描画\n",
    "\n",
    "plt.hist(hat_df_0['Y'], bins=20, alpha=0.5, density=True, label=r'$\\hat{p}_{\\mathrm{do}(T=0)}(y)$')\n",
    "plt.hist(hat_df_1['Y'], bins=20, alpha=0.5, density=True, label=r'$\\hat{p}_{\\mathrm{do}(T=1)}(y)$')\n",
    "plt.legend()\n",
    "plt.xlabel(r'$y$')\n",
    "plt.show();"
   ]
  },
  {
   "cell_type": "code",
   "execution_count": 14,
   "metadata": {},
   "outputs": [
    {
     "name": "stdout",
     "output_type": "stream",
     "text": [
      "平均因果効果の推定値: 367.47836906849807\n"
     ]
    }
   ],
   "source": [
    "# 平均因果効果の推定値\n",
    "\n",
    "print('平均因果効果の推定値:', hat_df_1['Y'].mean() - hat_df_0['Y'].mean())"
   ]
  },
  {
   "cell_type": "code",
   "execution_count": 15,
   "metadata": {},
   "outputs": [],
   "source": [
    "# p(y|t, x1, x2)の推定\n",
    "\n",
    "linear_model_y_t_x1_x2 = LinearRegression(fit_intercept=True)\n",
    "linear_model_y_t_x1_x2.fit(df[['T', 'X1', 'X2']].values, df['Y'].values)\n",
    "sigma_y_t_x1_x2 = np.sqrt(((df['Y'].values - linear_model_y_t_x1_x2.predict(df[['T', 'X1', 'X2']].values)) ** 2).mean())"
   ]
  },
  {
   "cell_type": "code",
   "execution_count": 16,
   "metadata": {},
   "outputs": [],
   "source": [
    "# 推定した分布での平均因果効果の計算\n",
    "\n",
    "X1 = np.random.binomial(1, p_x1, 10000)\n",
    "X2 = np.random.normal(mu_x2, sigma_x2, 10000)\n",
    "T = np.zeros(10000)\n",
    "Y_0 = np.random.normal(linear_model_y_t_x1_x2.predict(np.c_[T, X1, X2]), sigma_y_t_x1_x2, 10000)\n",
    "\n",
    "hat_df_0 = pd.DataFrame({\n",
    "    'X1': X1,\n",
    "    'X2': X2,\n",
    "    'T': T,\n",
    "    'Y': Y_0\n",
    "})\n",
    "\n",
    "X1 = np.random.binomial(1, p_x1, 10000)\n",
    "X2 = np.random.normal(mu_x2, sigma_x2, 10000)\n",
    "T = np.ones(10000)\n",
    "Y_1 = np.random.normal(linear_model_y_t_x1_x2.predict(np.c_[T, X1, X2]), sigma_y_t_x1_x2, 10000)\n",
    "\n",
    "hat_df_1 = pd.DataFrame({\n",
    "    'X1': X1,\n",
    "    'X2': X2,\n",
    "    'T': T,\n",
    "    'Y': Y_1\n",
    "})"
   ]
  },
  {
   "cell_type": "code",
   "execution_count": 17,
   "metadata": {},
   "outputs": [
    {
     "data": {
      "image/png": "[encoded data removed]",
      "text/plain": [
       "<Figure size 640x480 with 1 Axes>"
      ]
     },
     "metadata": {},
     "output_type": "display_data"
    }
   ],
   "source": [
    "# \\hat{p}_{do(T=0)}(y)と\\hat{p}_{do(T=1)}(y)の描画\n",
    "\n",
    "plt.hist(hat_df_0['Y'], bins=20, alpha=0.5, density=True, label=r'$\\hat{p}_{\\mathrm{do}(T=0)}(y)$')\n",
    "plt.hist(hat_df_1['Y'], bins=20, alpha=0.5, density=True, label=r'$\\hat{p}_{\\mathrm{do}(T=1)}(y)$')\n",
    "plt.legend()\n",
    "plt.xlabel(r'$y$')\n",
    "plt.show();"
   ]
  },
  {
   "cell_type": "code",
   "execution_count": 18,
   "metadata": {},
   "outputs": [
    {
     "name": "stdout",
     "output_type": "stream",
     "text": [
      "平均因果効果の推定値: 261.9917017529551\n"
     ]
    }
   ],
   "source": [
    "# 平均因果効果の推定値\n",
    "\n",
    "print('平均因果効果の推定値:', hat_df_1['Y'].mean() - hat_df_0['Y'].mean())"
   ]
  },
  {
   "cell_type": "code",
   "execution_count": 19,
   "metadata": {},
   "outputs": [],
   "source": [
    "# p(y|t, x1, x3)の推定\n",
    "\n",
    "linear_model_y_t_x1_x3 = LinearRegression(fit_intercept=True)\n",
    "linear_model_y_t_x1_x3.fit(df[['T', 'X1', 'X3']].values, df['Y'].values)\n",
    "sigma_y_t_x1_x3 = np.sqrt(((df['Y'].values - linear_model_y_t_x1_x3.predict(df[['T', 'X1', 'X3']].values)) ** 2).mean())\n",
    "\n",
    "# p(x1, x3)の推定\n",
    "p_x1_x3_00 = len(df[(df['X1'] == 0) & (df['X3'] == 0)]) / len(df)\n",
    "p_x1_x3_01 = len(df[(df['X1'] == 0) & (df['X3'] == 1)]) / len(df)\n",
    "p_x1_x3_10 = len(df[(df['X1'] == 1) & (df['X3'] == 0)]) / len(df)\n",
    "p_x1_x3_11 = len(df[(df['X1'] == 1) & (df['X3'] == 1)]) / len(df)"
   ]
  },
  {
   "cell_type": "code",
   "execution_count": 20,
   "metadata": {},
   "outputs": [],
   "source": [
    "def sample_X1_X3(p_00, p_01, p_10, p_11, size=1):\n",
    "    \"\"\"\n",
    "    与えられた確率 p_00, p_01, p_10, p_11 に従って (X1, X3) をサンプリングし、Pandas DataFrame に格納\n",
    "    \n",
    "    :param p_00: P(X1=0, X3=0)\n",
    "    :param p_01: P(X1=0, X3=1)\n",
    "    :param p_10: P(X1=1, X3=0)\n",
    "    :param p_11: P(X1=1, X3=1)\n",
    "    :param size: 生成するサンプル数\n",
    "    :return: Pandas DataFrame (カラム名: 'X1', 'X3')\n",
    "    \"\"\"\n",
    "    # 確率分布の累積分布関数 (CDF) を作成\n",
    "    probs = np.array([p_00, p_01, p_10, p_11])\n",
    "    cdf = np.cumsum(probs)  # CDFを計算\n",
    "\n",
    "    # 一様乱数を生成\n",
    "    U = np.random.rand(size)\n",
    "\n",
    "    # CDF に基づいて (X1, X3) を選択\n",
    "    X1 = np.select([U < cdf[0], \n",
    "                    (U >= cdf[0]) & (U < cdf[1]), \n",
    "                    (U >= cdf[1]) & (U < cdf[2])], \n",
    "                   [0, 0, 1], default=1)\n",
    "\n",
    "    X3 = np.select([U < cdf[0], \n",
    "                    (U >= cdf[0]) & (U < cdf[1]), \n",
    "                    (U >= cdf[2])], \n",
    "                   [0, 1, 1], default=0)\n",
    "    \n",
    "    # DataFrame に格納\n",
    "    df = pd.DataFrame({'X1': X1, 'X3': X3})\n",
    "    return df\n"
   ]
  },
  {
   "cell_type": "code",
   "execution_count": 21,
   "metadata": {},
   "outputs": [],
   "source": [
    "# 推定した分布での平均因果効果の計算\n",
    "\n",
    "X1X3 = sample_X1_X3(p_x1_x3_00, p_x1_x3_01, p_x1_x3_10, p_x1_x3_11, 10000)\n",
    "T = np.zeros(10000)\n",
    "Y_0 = np.random.normal(linear_model_y_t_x1_x3.predict(np.c_[T, X1X3]), sigma_y_t_x1_x3, 10000)\n",
    "\n",
    "hat_df_0 = pd.DataFrame({\n",
    "    'X1': X1X3['X1'],\n",
    "    'X3': X1X3['X3'],\n",
    "    'T': T,\n",
    "    'Y': Y_0\n",
    "})\n",
    "\n",
    "X1X3 = sample_X1_X3(p_x1_x3_00, p_x1_x3_01, p_x1_x3_10, p_x1_x3_11, 10000)\n",
    "T = np.ones(10000)\n",
    "Y_1 = np.random.normal(linear_model_y_t_x1_x3.predict(np.c_[T, X1X3]), sigma_y_t_x1_x3, 10000)\n",
    "\n",
    "hat_df_1 = pd.DataFrame({\n",
    "    'X1': X1X3['X1'],\n",
    "    'X3': X1X3['X3'],\n",
    "    'T': T,\n",
    "    'Y': Y_1\n",
    "})"
   ]
  },
  {
   "cell_type": "code",
   "execution_count": 22,
   "metadata": {},
   "outputs": [
    {
     "data": {
      "image/png": "[encoded data removed]",
      "text/plain": [
       "<Figure size 640x480 with 1 Axes>"
      ]
     },
     "metadata": {},
     "output_type": "display_data"
    }
   ],
   "source": [
    "# \\hat{p}_{do(T=0)}(y)と\\hat{p}_{do(T=1)}(y)の描画\n",
    "\n",
    "plt.hist(hat_df_0['Y'], bins=20, alpha=0.5, density=True, label=r'$\\hat{p}_{\\mathrm{do}(T=0)}(y)$')\n",
    "plt.hist(hat_df_1['Y'], bins=20, alpha=0.5, density=True, label=r'$\\hat{p}_{\\mathrm{do}(T=1)}(y)$')\n",
    "plt.legend()\n",
    "plt.xlabel(r'$y$')\n",
    "plt.show();"
   ]
  },
  {
   "cell_type": "code",
   "execution_count": 23,
   "metadata": {},
   "outputs": [
    {
     "name": "stdout",
     "output_type": "stream",
     "text": [
      "平均因果効果の推定値: 346.01036831831607\n"
     ]
    }
   ],
   "source": [
    "# 平均因果効果の推定値\n",
    "\n",
    "print('平均因果効果の推定値:', hat_df_1['Y'].mean() - hat_df_0['Y'].mean())"
   ]
  },
  {
   "cell_type": "code",
   "execution_count": null,
   "metadata": {},
   "outputs": [],
   "source": []
  }
 ],
 "metadata": {
  "kernelspec": {
   "display_name": "base",
   "language": "python",
   "name": "python3"
  },
  "language_info": {
   "codemirror_mode": {
    "name": "ipython",
    "version": 3
   },
   "file_extension": ".py",
   "mimetype": "text/x-python",
   "name": "python",
   "nbconvert_exporter": "python",
   "pygments_lexer": "ipython3",
   "version": "3.11.7"
  }
 },
 "nbformat": 4,
 "nbformat_minor": 4
}
