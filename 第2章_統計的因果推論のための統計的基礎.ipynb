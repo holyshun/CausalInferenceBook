{
 "cells": [
  {
   "cell_type": "code",
   "execution_count": null,
   "metadata": {},
   "outputs": [],
   "source": [
    "from matplotlib import pyplot as plt\n",
    "import japanize_matplotlib\n",
    "import scipy.stats as stats\n",
    "import numpy as np\n",
    "import warnings\n",
    "warnings.filterwarnings('ignore')"
   ]
  },
  {
   "cell_type": "code",
   "execution_count": null,
   "metadata": {},
   "outputs": [],
   "source": [
    "np.random.seed(42)"
   ]
  },
  {
   "cell_type": "markdown",
   "metadata": {},
   "source": [
    "# ベルヌーイ分布の推定"
   ]
  },
  {
   "cell_type": "code",
   "execution_count": null,
   "metadata": {},
   "outputs": [],
   "source": [
    "# データの生成\n",
    "x = np.random.binomial(1, 0.05, 100)\n",
    "\n",
    "print(x)"
   ]
  },
  {
   "cell_type": "code",
   "execution_count": null,
   "metadata": {},
   "outputs": [],
   "source": [
    "# x における1の数\n",
    "n_1 = np.sum(x)\n",
    "# x における0の数\n",
    "n_0 = len(x) - n_1\n",
    "\n",
    "print(f'0の数: {n_0}, 1の数: {n_1}')"
   ]
  },
  {
   "cell_type": "code",
   "execution_count": null,
   "metadata": {},
   "outputs": [],
   "source": [
    "# 出現回数のグラフ化\n",
    "plt.bar([0, 1], [n_0, n_1])\n",
    "plt.xticks([0, 1], ['0', '1'])\n",
    "plt.xlabel('x')\n",
    "plt.ylabel('出現回数')\n",
    "plt.title('0と1の出現回数')\n",
    "plt.show();"
   ]
  },
  {
   "cell_type": "code",
   "execution_count": null,
   "metadata": {},
   "outputs": [],
   "source": [
    "# x における1の割合\n",
    "theta_hat = n_1 / len(x)\n",
    "print(f'1の割合: {theta_hat}')"
   ]
  },
  {
   "cell_type": "code",
   "execution_count": null,
   "metadata": {},
   "outputs": [],
   "source": [
    "# 推定したベルヌーイ分布の描画\n",
    "plt.bar([0, 1], [1-theta_hat, theta_hat])\n",
    "plt.xticks([0, 1], ['0', '1'])\n",
    "plt.xlabel('x')\n",
    "plt.ylabel('確率')\n",
    "plt.title('推定された確率分布')\n",
    "plt.show();"
   ]
  },
  {
   "cell_type": "markdown",
   "metadata": {},
   "source": [
    "# ポアソン分布の推定"
   ]
  },
  {
   "cell_type": "code",
   "execution_count": null,
   "metadata": {},
   "outputs": [],
   "source": [
    "# データの生成\n",
    "x = np.random.poisson(4, 100)\n",
    "\n",
    "print(x)"
   ]
  },
  {
   "cell_type": "code",
   "execution_count": null,
   "metadata": {},
   "outputs": [],
   "source": [
    "# ポアソン分布のパラメータλを最尤推定で推定\n",
    "lambda_hat = np.mean(x)\n",
    "print(f'λの推定値: {lambda_hat}')"
   ]
  },
  {
   "cell_type": "code",
   "execution_count": null,
   "metadata": {},
   "outputs": [],
   "source": [
    "# 観測値の相対度数の棒グラフと推定された確率関数を描画\n",
    "hist, _ = np.histogram(x, bins=20, range=(0, 20))\n",
    "hist = hist / len(x)\n",
    "plt.bar(range(20), hist, alpha=0.6)\n",
    "y = stats.poisson.pmf(range(20), lambda_hat)\n",
    "plt.plot(range(20), y, marker='o', color='orange')\n",
    "plt.xlabel('x')\n",
    "plt.ylabel('確率')\n",
    "plt.title('ポアソン分布の推定')\n",
    "plt.xticks(range(20))\n",
    "plt.show();"
   ]
  },
  {
   "cell_type": "markdown",
   "metadata": {},
   "source": [
    "# 正規分布の推定"
   ]
  },
  {
   "cell_type": "code",
   "execution_count": null,
   "metadata": {},
   "outputs": [],
   "source": [
    "# データの生成\n",
    "x = np.random.normal(5, 0.05, 500)\n",
    "print(x)"
   ]
  },
  {
   "cell_type": "code",
   "execution_count": null,
   "metadata": {},
   "outputs": [],
   "source": [
    "# パラメータの最尤推定\n",
    "mu_hat = np.mean(x)\n",
    "sigma2_hat = np.var(x)\n",
    "print(f'平均: {mu_hat}, 分散: {sigma2_hat}')"
   ]
  },
  {
   "cell_type": "code",
   "execution_count": null,
   "metadata": {},
   "outputs": [],
   "source": [
    "# 観測値の相対度数のヒストグラムと推定された確率密度関数を描画\n",
    "plt.hist(x, bins=20, density=True, alpha=0.6)\n",
    "temp = np.linspace(4.8, 5.2, 100)\n",
    "y = stats.norm.pdf(temp, mu_hat, np.sqrt(sigma2_hat))\n",
    "plt.plot(temp, y, color='orange')\n",
    "plt.xlabel('x')\n",
    "plt.ylabel('確率密度')\n",
    "plt.title('正規分布の推定')\n",
    "plt.show();"
   ]
  },
  {
   "cell_type": "markdown",
   "metadata": {},
   "source": [
    "# 指数分布の推定"
   ]
  },
  {
   "cell_type": "code",
   "execution_count": null,
   "metadata": {},
   "outputs": [],
   "source": [
    "# データの生成\n",
    "x = np.random.exponential(0.2, 300)\n",
    "print(x)"
   ]
  },
  {
   "cell_type": "code",
   "execution_count": null,
   "metadata": {},
   "outputs": [],
   "source": [
    "# λの最尤推定\n",
    "lambda_hat = 1 / np.mean(x)\n",
    "print(f'λの推定値: {lambda_hat}')"
   ]
  },
  {
   "cell_type": "code",
   "execution_count": null,
   "metadata": {},
   "outputs": [],
   "source": [
    "# 観測値の相対度数のヒストグラムと推定された確率密度関数を描画\n",
    "plt.hist(x, bins=20, density=True, alpha=0.6)\n",
    "temp = np.linspace(0, 1.5, 100)\n",
    "y = stats.expon.pdf(temp, scale=1/lambda_hat)\n",
    "plt.plot(temp, y, color='orange')\n",
    "plt.xlabel('x')\n",
    "plt.ylabel('確率密度')\n",
    "plt.title('指数分布の推定')\n",
    "plt.show();"
   ]
  },
  {
   "cell_type": "markdown",
   "metadata": {},
   "source": [
    "# 層別"
   ]
  },
  {
   "cell_type": "code",
   "execution_count": null,
   "metadata": {},
   "outputs": [],
   "source": [
    "# データの生成\n",
    "mu_1 = 1\n",
    "mu_2 = 3\n",
    "mu_3 = 2\n",
    "sigma2_1 = 0.1\n",
    "sigma2_2 = 0.2\n",
    "sigma2_3 = 0.3\n",
    "x1 = np.random.normal(mu_1, np.sqrt(sigma2_1), 100)\n",
    "x2 = np.random.normal(mu_2, np.sqrt(sigma2_2), 100)\n",
    "x3 = np.random.normal(mu_3, np.sqrt(sigma2_3), 100)"
   ]
  },
  {
   "cell_type": "code",
   "execution_count": null,
   "metadata": {},
   "outputs": [],
   "source": [
    "# 層ごとに平均と分散を推定\n",
    "\n",
    "mu_1_hat = np.mean(x1)\n",
    "mu_2_hat = np.mean(x2)\n",
    "mu_3_hat = np.mean(x3)\n",
    "sigma2_1_hat = np.var(x1)\n",
    "sigma2_2_hat = np.var(x2)\n",
    "sigma2_3_hat = np.var(x3)\n",
    "\n",
    "print(f'平均1: {mu_1_hat}, 分散1: {sigma2_1_hat}')\n",
    "print(f'平均2: {mu_2_hat}, 分散2: {sigma2_2_hat}')\n",
    "print(f'平均3: {mu_3_hat}, 分散3: {sigma2_3_hat}')"
   ]
  },
  {
   "cell_type": "code",
   "execution_count": null,
   "metadata": {},
   "outputs": [],
   "source": [
    "# x1のヒストグラムと推定された確率密度関数を描画\n",
    "plt.hist(x1, bins=20, density=True, alpha=0.6)\n",
    "temp = np.linspace(0, 5, 100)\n",
    "y = stats.norm.pdf(temp, mu_1_hat, np.sqrt(sigma2_1_hat))\n",
    "plt.plot(temp, y, color='orange')\n",
    "plt.xlabel('x')\n",
    "plt.ylabel('確率密度')\n",
    "plt.title('若年層のデータに対する正規分布の推定')\n",
    "plt.show();"
   ]
  },
  {
   "cell_type": "code",
   "execution_count": null,
   "metadata": {},
   "outputs": [],
   "source": [
    "# x2のヒストグラムと推定された確率密度関数を描画\n",
    "plt.hist(x2, bins=20, density=True, alpha=0.6)\n",
    "temp = np.linspace(0, 5, 100)\n",
    "y = stats.norm.pdf(temp, mu_2_hat, np.sqrt(sigma2_2_hat))\n",
    "plt.plot(temp, y, color='orange')\n",
    "plt.xlabel('x')\n",
    "plt.ylabel('確率密度')\n",
    "plt.title('中年層のデータに対する正規分布の推定')\n",
    "plt.show();"
   ]
  },
  {
   "cell_type": "code",
   "execution_count": null,
   "metadata": {},
   "outputs": [],
   "source": [
    "# x3のヒストグラムと推定された確率密度関数を描画\n",
    "plt.hist(x3, bins=20, density=True, alpha=0.6)\n",
    "temp = np.linspace(0, 5, 100)\n",
    "y = stats.norm.pdf(temp, mu_3_hat, np.sqrt(sigma2_3_hat))\n",
    "plt.plot(temp, y, color='orange')\n",
    "plt.xlabel('x')\n",
    "plt.ylabel('確率密度')\n",
    "plt.title('高齢層のデータに対する正規分布の推定')\n",
    "plt.show();"
   ]
  },
  {
   "cell_type": "markdown",
   "metadata": {},
   "source": [
    "# 単回帰分析"
   ]
  },
  {
   "cell_type": "code",
   "execution_count": null,
   "metadata": {},
   "outputs": [],
   "source": [
    "# データの生成\n",
    "x = np.round(np.random.exponential(5, 100), 1)\n",
    "y = np.round(1 + 0.2*x +np.random.normal(0, 0.5, 100), 1)"
   ]
  },
  {
   "cell_type": "code",
   "execution_count": null,
   "metadata": {},
   "outputs": [],
   "source": [
    "# 最小二乗法でパラメータを推定\n",
    "alpha_hat = np.cov(x, y)[0, 1] / np.var(x)\n",
    "beta_hat = np.mean(y) - alpha_hat * np.mean(x)\n",
    "print(f'αの推定値: {alpha_hat}, βの推定値: {beta_hat}')"
   ]
  },
  {
   "cell_type": "code",
   "execution_count": null,
   "metadata": {},
   "outputs": [],
   "source": [
    "# 散布図と回帰直線を描画\n",
    "plt.scatter(x, y)\n",
    "temp = np.linspace(0, 35, 100)\n",
    "plt.plot(temp, alpha_hat*temp + beta_hat, color='orange')\n",
    "plt.xlabel('x')\n",
    "plt.ylabel('y')\n",
    "plt.title('散布図と推定された回帰直線')\n",
    "plt.show();"
   ]
  },
  {
   "cell_type": "markdown",
   "metadata": {},
   "source": [
    "# 重回帰分析"
   ]
  },
  {
   "cell_type": "code",
   "execution_count": null,
   "metadata": {},
   "outputs": [],
   "source": [
    "# データの生成（x1は単回帰のxを転用）\n",
    "x1 = x\n",
    "x2 = np.floor(np.abs(100*x1+np.random.normal(0, 10, 100))).astype(int)\n",
    "\n",
    "y = np.round(1 + 0.1*x1 + 0.03*x2 + np.random.normal(0, 0.1, 100), 1)"
   ]
  },
  {
   "cell_type": "code",
   "execution_count": null,
   "metadata": {},
   "outputs": [],
   "source": [
    "# 回帰係数を最小2乗法により推定\n",
    "X = np.stack([x1, x2], axis=1)\n",
    "X_with_const = np.hstack([np.ones((100, 1)), X])\n",
    "beta_hat = np.linalg.inv(X_with_const.T @ X_with_const) @ X_with_const.T @ y\n",
    "print(f'βの推定値: {beta_hat}')"
   ]
  },
  {
   "cell_type": "code",
   "execution_count": null,
   "metadata": {},
   "outputs": [],
   "source": [
    "# 推定した重回帰の平面を図示\n",
    "from mpl_toolkits.mplot3d import Axes3D\n",
    "fig = plt.figure()\n",
    "ax = fig.add_subplot(111, projection='3d')\n",
    "temp1 = np.linspace(0, 35, 100)\n",
    "temp2 = np.linspace(0, 3500, 100)\n",
    "temp1, temp2 = np.meshgrid(temp1, temp2)\n",
    "temp_y = beta_hat[0] + beta_hat[1]*temp1 + beta_hat[2]*temp2\n",
    "ax.plot_surface(temp1, temp2, temp_y, alpha=0.5, color='orange')\n",
    "ax.set_xlabel('x1')\n",
    "ax.set_ylabel('x2')\n",
    "ax.set_zlabel('y')\n",
    "plt.title('重回帰分析の結果')\n",
    "plt.show();"
   ]
  },
  {
   "cell_type": "markdown",
   "metadata": {},
   "source": [
    "# ランダムフォレストによる条件付き期待値の推定"
   ]
  },
  {
   "cell_type": "code",
   "execution_count": null,
   "metadata": {},
   "outputs": [],
   "source": [
    "from sklearn.ensemble import RandomForestRegressor\n",
    "\n",
    "model = RandomForestRegressor()\n",
    "model.fit(X, y)"
   ]
  },
  {
   "cell_type": "code",
   "execution_count": null,
   "metadata": {},
   "outputs": [],
   "source": [
    "fig = plt.figure()\n",
    "ax = fig.add_subplot(111, projection='3d')\n",
    "temp1 = np.linspace(0, 35, 100)\n",
    "temp2 = np.linspace(0, 3500, 100)\n",
    "temp1, temp2 = np.meshgrid(temp1, temp2)\n",
    "X_pred = np.column_stack([temp1.ravel(), temp2.ravel()])\n",
    "\n",
    "# ランダムフォレストによる予測値を計算\n",
    "y_pred = model.predict(X_pred).reshape(temp1.shape)\n",
    "\n",
    "# 3D サーフェスプロットの描画\n",
    "surf = ax.plot_surface(temp1, temp2, y_pred, cmap='viridis', edgecolor='none')\n",
    "ax.set_xlabel(\"x1\")\n",
    "ax.set_ylabel(\"x2\")\n",
    "ax.set_zlabel(\"Predicted y\")\n",
    "ax.set_title(\"ランダムフォレストの学習結果\")\n",
    "fig.colorbar(surf, ax=ax, shrink=0.5, aspect=10)\n",
    "plt.show();"
   ]
  },
  {
   "cell_type": "markdown",
   "metadata": {},
   "source": [
    "# 重回帰分析のベイズ推論"
   ]
  },
  {
   "cell_type": "code",
   "execution_count": null,
   "metadata": {},
   "outputs": [],
   "source": [
    "# 事前分布の設定\n",
    "prior_beta_mean = 0\n",
    "prior_beta_s = 0.01\n",
    "prior_s_e_a = 1\n",
    "prior_s_e_b = 50\n",
    "\n",
    "# gibbs sampling\n",
    "np.random.seed(0)\n",
    "n = X_with_const.shape[0]\n",
    "p = X_with_const.shape[1]\n",
    "\n",
    "# 初期値\n",
    "beta = np.zeros(p)\n",
    "s_e = 1\n",
    "n_iter = 10000\n",
    "beta_samples = np.zeros((n_iter, p))\n",
    "sig2_e_samples = np.zeros(n_iter)\n",
    "\n",
    "for i in range(n_iter):\n",
    "    # βのサンプリング\n",
    "    beta_cov = np.linalg.inv(s_e * X_with_const.T @ X_with_const + prior_beta_s * np.eye(p) )\n",
    "    beta_mean = beta_cov @ (s_e * X_with_const.T @ y + prior_beta_s * prior_beta_mean)\n",
    "    beta = np.random.multivariate_normal(beta_mean, beta_cov)\n",
    "    beta_samples[i] = beta\n",
    "\n",
    "    # s_eのサンプリング\n",
    "    s_e_a_new = prior_s_e_a + n/2\n",
    "    s_e_b_new = prior_s_e_b + 0.5 * (y - X_with_const @ beta).T @ (y - X_with_const @ beta)\n",
    "    s_e = np.random.gamma(s_e_a_new, 1/s_e_b_new)\n",
    "    sig2_e_samples[i] = 1./s_e"
   ]
  },
  {
   "cell_type": "code",
   "execution_count": null,
   "metadata": {},
   "outputs": [],
   "source": [
    "# 回帰係数の事前分布の描画\n",
    "x= np.linspace(-50, 50, 1000)\n",
    "y = stats.norm.pdf(x, loc=0, scale=10)\n",
    "plt.plot(x, y)\n",
    "plt.xlabel(r'$\\beta_{2}$')\n",
    "plt.ylabel(r'$p(\\beta_{2})$')\n",
    "plt.show();"
   ]
  },
  {
   "cell_type": "code",
   "execution_count": null,
   "metadata": {},
   "outputs": [],
   "source": [
    "# 誤差の分散の事前分布の描画\n",
    "x = np.linspace(0, 400, 1000)\n",
    "y = stats.invgamma.pdf(x, a=1, scale=50)\n",
    "plt.plot(x, y)\n",
    "plt.xlabel(r'$\\sigma_{\\varepsilon}^{2}$')\n",
    "plt.ylabel(r'$p(\\sigma_{\\varepsilon}^{2})$')\n",
    "plt.show();"
   ]
  },
  {
   "cell_type": "code",
   "execution_count": null,
   "metadata": {},
   "outputs": [],
   "source": [
    "# β_{0}の事後分布の描画（事後サンプルのヒストグラム）\n",
    "plt.hist(beta_samples[:, 0], bins=50, density=True, color='orange')\n",
    "plt.xlabel(r'$\\beta_{0}$')\n",
    "plt.show();"
   ]
  },
  {
   "cell_type": "code",
   "execution_count": null,
   "metadata": {},
   "outputs": [],
   "source": [
    "# β_{1}の事後分布の描画（事後サンプルのヒストグラム）\n",
    "plt.hist(beta_samples[:, 1], bins=50, density=True, color='orange')\n",
    "plt.xlabel(r'$\\beta_{1}$')\n",
    "plt.show();"
   ]
  },
  {
   "cell_type": "code",
   "execution_count": null,
   "metadata": {},
   "outputs": [],
   "source": [
    "# β_{2}の事後分布の描画（事後サンプルのヒストグラム）\n",
    "plt.hist(beta_samples[:, 2], bins=50, density=True, color='orange')\n",
    "plt.xlabel(r'$\\beta_{2}$')\n",
    "plt.show();"
   ]
  },
  {
   "cell_type": "code",
   "execution_count": null,
   "metadata": {},
   "outputs": [],
   "source": [
    "# \\sigma^{2}の事後分布の描画（事後サンプルのヒストグラム）\n",
    "plt.hist(sig2_e_samples, bins=50, density=True, color='orange')\n",
    "plt.xlabel(r'$\\sigma_{\\varepsilon}^{2}$')\n",
    "plt.show();"
   ]
  },
  {
   "cell_type": "code",
   "execution_count": null,
   "metadata": {},
   "outputs": [],
   "source": [
    "# 事後平均の計算\n",
    "np.mean(beta_samples, axis=0)"
   ]
  },
  {
   "cell_type": "code",
   "execution_count": null,
   "metadata": {},
   "outputs": [],
   "source": [
    "# 各回帰係数が0より大きい事後確率の計算\n",
    "np.mean(beta_samples>0, axis=0)"
   ]
  },
  {
   "cell_type": "markdown",
   "metadata": {},
   "source": [
    "# 層別とダミー変数"
   ]
  },
  {
   "cell_type": "code",
   "execution_count": null,
   "metadata": {},
   "outputs": [],
   "source": [
    "# データの生成\n",
    "beta_0_1 = 0.5\n",
    "beta_0_2 = 1.5\n",
    "beta_0_3 = 1\n",
    "beta_1_1 = 0.1\n",
    "beta_1_2 = 0.2\n",
    "beta_1_3 = 0.15\n",
    "\n",
    "x = np.round(np.random.exponential(5, 300), 1)\n",
    "\n",
    "y1 = beta_0_1 + beta_1_1*x[0:100] + np.random.normal(0, 0.1, 100)\n",
    "y2 = beta_0_2 + beta_1_2*x[100:200] + np.random.normal(0, 0.3, 100)\n",
    "y3 = beta_0_3 + beta_1_3*x[200:300] + np.random.normal(0, 0.2, 100)"
   ]
  },
  {
   "cell_type": "code",
   "execution_count": null,
   "metadata": {},
   "outputs": [],
   "source": [
    "# x[0:100]とy1の単回帰分析\n",
    "alpha_hat_1 = np.cov(x[0:100], y1)[0, 1] / np.var(x[0:100])\n",
    "beta_hat_1 = np.mean(y1) - alpha_hat_1 * np.mean(x[0:100])\n",
    "print(f'α1: {alpha_hat_1}, β1: {beta_hat_1}')"
   ]
  },
  {
   "cell_type": "code",
   "execution_count": null,
   "metadata": {},
   "outputs": [],
   "source": [
    "# x[100:200]とy2の単回帰分析\n",
    "alpha_hat_2 = np.cov(x[100:200], y2)[0, 1] / np.var(x[100:200])\n",
    "beta_hat_2 = np.mean(y2) - alpha_hat_2 * np.mean(x[100:200])\n",
    "print(f'α2: {alpha_hat_2}, β2: {beta_hat_2}')"
   ]
  },
  {
   "cell_type": "code",
   "execution_count": null,
   "metadata": {},
   "outputs": [],
   "source": [
    "# x[200:300]とy3の単回帰分析\n",
    "alpha_hat_3 = np.cov(x[200:300], y3)[0, 1] / np.var(x[200:300])\n",
    "beta_hat_3 = np.mean(y3) - alpha_hat_3 * np.mean(x[200:300])\n",
    "print(f'α3: {alpha_hat_3}, β3: {beta_hat_3}')"
   ]
  },
  {
   "cell_type": "code",
   "execution_count": null,
   "metadata": {},
   "outputs": [],
   "source": [
    "# 散布図と回帰直線を描画\n",
    "plt.scatter(x[0:100], y1, color='blue', label='若年層')\n",
    "plt.scatter(x[100:200], y2, color='orange', label='中年層')\n",
    "plt.scatter(x[200:300], y3, color='green', label='高齢層')\n",
    "temp = np.linspace(0, 35, 100)\n",
    "plt.plot(temp, alpha_hat_1*temp + beta_hat_1, color='blue')\n",
    "plt.plot(temp, alpha_hat_2*temp + beta_hat_2, color='orange')\n",
    "plt.plot(temp, alpha_hat_3*temp + beta_hat_3, color='green')\n",
    "plt.xlabel('x')\n",
    "plt.ylabel('y')\n",
    "plt.title('散布図と回帰直線')\n",
    "plt.legend()\n",
    "plt.show();"
   ]
  },
  {
   "cell_type": "code",
   "execution_count": null,
   "metadata": {},
   "outputs": [],
   "source": [
    "# ダミー変数を作成\n",
    "x1 = np.zeros(300)\n",
    "x1[100:200] = 1\n",
    "x2 = np.zeros(300)\n",
    "x2[200:300] = 1\n",
    "\n",
    "# ダミー変数を使った重回帰分析\n",
    "X = np.stack([x, x1, x2], axis=1)\n",
    "X = np.hstack([np.ones((300, 1)), X])\n",
    "beta_hat = np.linalg.inv(X.T @ X) @ X.T @ np.hstack([y1, y2, y3])\n",
    "print(f'β: {beta_hat}')"
   ]
  },
  {
   "cell_type": "code",
   "execution_count": null,
   "metadata": {},
   "outputs": [],
   "source": [
    "# 散布図と回帰直線を描画\n",
    "plt.scatter(x[0:100], y1, color='blue', label='若年層')\n",
    "plt.scatter(x[100:200], y2, color='orange', label='中年層')\n",
    "plt.scatter(x[200:300], y3, color='green', label='高齢層')\n",
    "temp = np.linspace(0, 35, 100)\n",
    "plt.plot(temp, beta_hat[0] + beta_hat[1]*temp, color='blue')\n",
    "plt.plot(temp, beta_hat[0] + beta_hat[2] + beta_hat[1]*temp, color='orange')\n",
    "plt.plot(temp, beta_hat[0] + beta_hat[3] + beta_hat[1]*temp, color='green')\n",
    "plt.xlabel('x')\n",
    "plt.ylabel('y')\n",
    "plt.title('散布図と回帰直線')\n",
    "plt.legend()\n",
    "plt.show();"
   ]
  },
  {
   "cell_type": "markdown",
   "metadata": {},
   "source": [
    "# ロジスティック回帰分析"
   ]
  },
  {
   "cell_type": "code",
   "execution_count": null,
   "metadata": {},
   "outputs": [],
   "source": [
    "def sigmoid(x):\n",
    "    return 1 / (1 + np.exp(-x))\n",
    "\n",
    "# データの生成\n",
    "beta_0 = 0.5\n",
    "beta_1_1 = -1\n",
    "beta_1_2 = -2\n",
    "beta_2 = 1\n",
    "\n",
    "p_y = sigmoid(beta_0 + beta_1_1*x1 + beta_1_2*x2+beta_2*x)\n",
    "y = np.random.binomial(1, p_y, 300)"
   ]
  },
  {
   "cell_type": "code",
   "execution_count": null,
   "metadata": {},
   "outputs": [],
   "source": [
    "from sklearn.linear_model import LogisticRegression\n",
    "\n",
    "# ロジスティック回帰分析\n",
    "model = LogisticRegression(penalty=None)\n",
    "model.fit(X, y)\n",
    "print(f\"回帰係数の推定値{model.coef_}\")"
   ]
  },
  {
   "cell_type": "code",
   "execution_count": null,
   "metadata": {},
   "outputs": [],
   "source": [
    "beta_hat[0] = model.coef_[0, 0]\n",
    "beta_hat[1] = model.coef_[0, 1]\n",
    "beta_hat[2] = model.coef_[0, 2]\n",
    "beta_hat[3] = model.coef_[0, 3]"
   ]
  },
  {
   "cell_type": "code",
   "execution_count": null,
   "metadata": {},
   "outputs": [],
   "source": [
    "# 推定した確率の描画\n",
    "x = np.linspace(0, 10, 100)\n",
    "p_y_0 = sigmoid(beta_hat[0]+beta_hat[1]*x)\n",
    "p_y_1 = sigmoid(beta_hat[0]+beta_hat[2]+beta_hat[1]*x)\n",
    "p_y_2 = sigmoid(beta_hat[0]+beta_hat[3]+beta_hat[1]*x)\n",
    "\n",
    "plt.plot(x, p_y_0, color='blue', label='若年層')\n",
    "plt.plot(x, p_y_1, color='orange', label='中年層')\n",
    "plt.plot(x, p_y_2, color='green', label='高齢層')\n",
    "plt.xlabel('x')\n",
    "plt.ylabel(r'$p_{Y|X_{1}, X_{2}}(1)$の推定値')\n",
    "plt.legend();"
   ]
  },
  {
   "cell_type": "code",
   "execution_count": null,
   "metadata": {},
   "outputs": [],
   "source": []
  }
 ],
 "metadata": {
  "kernelspec": {
   "display_name": "base",
   "language": "python",
   "name": "python3"
  },
  "language_info": {
   "codemirror_mode": {
    "name": "ipython",
    "version": 3
   },
   "file_extension": ".py",
   "mimetype": "text/x-python",
   "name": "python",
   "nbconvert_exporter": "python",
   "pygments_lexer": "ipython3",
   "version": "3.11.7"
  }
 },
 "nbformat": 4,
 "nbformat_minor": 4
}
